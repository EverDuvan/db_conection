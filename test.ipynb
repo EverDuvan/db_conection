{
 "cells": [
  {
   "cell_type": "code",
   "execution_count": null,
   "metadata": {},
   "outputs": [],
   "source": [
    "uno = 5\n",
    "dos = 6\n",
    "tres = uno + dos \n",
    "tres"
   ]
  }
 ],
 "metadata": {
  "kernelspec": {
   "display_name": "env",
   "language": "python",
   "name": "python3"
  },
  "language_info": {
   "name": "python",
   "version": "3.10.6"
  },
  "orig_nbformat": 4,
  "vscode": {
   "interpreter": {
    "hash": "854cae9a6f967dcbd169a805d9c55be17051b31485b5355d0d61fd4c6c89912f"
   }
  }
 },
 "nbformat": 4,
 "nbformat_minor": 2
}
